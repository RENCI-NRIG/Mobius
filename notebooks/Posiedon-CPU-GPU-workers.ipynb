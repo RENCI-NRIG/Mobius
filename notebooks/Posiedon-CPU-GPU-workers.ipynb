{
 "cells": [
  {
   "cell_type": "markdown",
   "metadata": {},
   "source": [
    "# Posiedon - TACC (CPU) - UC (CPU & GPU) connected"
   ]
  },
  {
   "cell_type": "markdown",
   "metadata": {},
   "source": [
    "## Set the project"
   ]
  },
  {
   "cell_type": "code",
   "execution_count": null,
   "metadata": {},
   "outputs": [],
   "source": [
    "import chi\n",
    "from chi.lease import Lease\n",
    "from chi.keypair import Keypair\n",
    "from chi.server import Server\n",
    "from chi.server import get_server\n",
    "import time\n",
    "\n",
    "chi.set('project_name', 'CH-822181') "
   ]
  },
  {
   "cell_type": "code",
   "execution_count": null,
   "metadata": {},
   "outputs": [],
   "source": [
    "import os\n",
    "ssh_key_file_priv=os.environ['HOME']+\"/work/.ssh/id_rsa\"\n",
    "ssh_key_file_pub=os.environ['HOME']+\"/work/.ssh/id_rsa.pub\""
   ]
  },
  {
   "cell_type": "code",
   "execution_count": null,
   "metadata": {},
   "outputs": [],
   "source": [
    "local_ip_cmd = \"curl -s http://169.254.169.254/latest/meta-data/local-ipv4\""
   ]
  },
  {
   "cell_type": "markdown",
   "metadata": {},
   "source": [
    "# Define the variables"
   ]
  },
  {
   "cell_type": "code",
   "execution_count": null,
   "metadata": {},
   "outputs": [],
   "source": [
    "hostname_prefix = 'pos'\n",
    "image = 'CC-Ubuntu18.04'\n",
    "network = 'sharedwan1'"
   ]
  },
  {
   "cell_type": "markdown",
   "metadata": {},
   "source": [
    "### Create Master at TACC"
   ]
  },
  {
   "cell_type": "code",
   "execution_count": null,
   "metadata": {},
   "outputs": [],
   "source": [
    "chi.use_site('CHI@TACC')"
   ]
  },
  {
   "cell_type": "code",
   "execution_count": null,
   "metadata": {},
   "outputs": [],
   "source": [
    "tacc_key_pair = Keypair(keypair_public_key=ssh_key_file_pub)\n",
    "\n",
    "print(f\"TACC Key pair is created: {tacc_key_pair.key_name}\")"
   ]
  },
  {
   "cell_type": "code",
   "execution_count": null,
   "metadata": {},
   "outputs": [],
   "source": [
    "master_name = \"master\"\n",
    "master_node_type='compute_cascadelake'\n",
    "\n",
    "# Create a lease for 1 node\n",
    "master_lease = Lease(name=master_name, node_type=master_node_type)\n",
    "master_lease.wait() # Ensure lease has started\n",
    "\n",
    "print(f\"Master Node Lease {master_name} is ACTIVE\")"
   ]
  },
  {
   "cell_type": "code",
   "execution_count": null,
   "metadata": {},
   "outputs": [],
   "source": [
    "master_name = \"master\"\n",
    "master_lease.prefix = hostname_prefix\n",
    "# Launch 1 server\n",
    "master = master_lease.create_server(name=master_name, image=image, net_name=network, key_name=tacc_key_pair.key_name)\n",
    "\n",
    "print(f\"Master Node Lease {master_name} created\")"
   ]
  },
  {
   "cell_type": "code",
   "execution_count": null,
   "metadata": {},
   "outputs": [],
   "source": [
    "master_name = \"master\"\n",
    "status = \"BUILD\"\n",
    "master_name=f\"{hostname_prefix}-{master_name}\"\n",
    "\n",
    "while status != \"ACTIVE\":\n",
    "    m = get_server(master_name)\n",
    "    status = m.status\n",
    "    time.sleep(5)\n",
    "\n",
    "master.associate_floating_ip()\n",
    "\n",
    "print(f\"Master Node {master_name} is ACTIVE {master.ip}\")"
   ]
  },
  {
   "cell_type": "code",
   "execution_count": null,
   "metadata": {},
   "outputs": [],
   "source": [
    "master_script = \"sudo git clone https://github.com/RENCI-NRIG/Mobius-scripts.git /root/Mobius-scripts\" \\\n",
    "                \"\\nsudo cp /root/Mobius-scripts/scripts/posiedon/pos_mobius_start.sh /root/mobius_start.sh\" \\\n",
    "                \"\\nsudo cp /root/Mobius-scripts/scripts/posiedon/panorama-data.sh /root/master.sh\" \\\n",
    "                \"\\nsudo sh /root/mobius_start.sh WORKFLOW all\" \\\n",
    "                \"\\nsudo sh /root/master.sh\""
   ]
  },
  {
   "cell_type": "code",
   "execution_count": null,
   "metadata": {},
   "outputs": [],
   "source": [
    "import paramiko \n",
    "\n",
    "key = paramiko.RSAKey.from_private_key_file(ssh_key_file_priv)\n",
    "client = paramiko.SSHClient()\n",
    "client.load_system_host_keys()\n",
    "client.set_missing_host_key_policy(paramiko.MissingHostKeyPolicy())\n",
    "client.set_missing_host_key_policy(paramiko.AutoAddPolicy())"
   ]
  },
  {
   "cell_type": "code",
   "execution_count": null,
   "metadata": {},
   "outputs": [],
   "source": [
    "client.connect(master.ip, username='cc',pkey = key)\n",
    "stdin, stdout, stderr = client.exec_command(master_script)\n",
    "#print (str(stdout.read(),'utf-8').replace('\\\\n','\\n'))\n",
    "\n",
    "print(f\"Setup script executed on {master_name}\")"
   ]
  },
  {
   "cell_type": "code",
   "execution_count": null,
   "metadata": {},
   "outputs": [],
   "source": [
    "client.connect(master.ip, username='cc',pkey = key)\n",
    "stdin, stdout, stderr = client.exec_command(local_ip_cmd)\n",
    "master_lip = str(stdout.read(),'utf-8').replace('\\\\n','\\n')\n",
    "\n",
    "print(f\"Master node local IPv4: {master_lip}\")"
   ]
  },
  {
   "cell_type": "code",
   "execution_count": null,
   "metadata": {},
   "outputs": [],
   "source": [
    "client.close()"
   ]
  },
  {
   "cell_type": "markdown",
   "metadata": {},
   "source": [
    "### Create Workers at UC"
   ]
  },
  {
   "cell_type": "code",
   "execution_count": null,
   "metadata": {},
   "outputs": [],
   "source": [
    "chi.use_site('CHI@UC')"
   ]
  },
  {
   "cell_type": "code",
   "execution_count": null,
   "metadata": {},
   "outputs": [],
   "source": [
    "uc_key_pair = Keypair(keypair_public_key=ssh_key_file_pub)\n",
    "\n",
    "print(f\"UC Key pair is created: {tacc_key_pair.key_name}\")"
   ]
  },
  {
   "cell_type": "markdown",
   "metadata": {},
   "source": [
    "# Create CPU Workers"
   ]
  },
  {
   "cell_type": "code",
   "execution_count": null,
   "metadata": {},
   "outputs": [],
   "source": [
    "num_workers = 1\n",
    "worker_node_type = 'compute_skylake'\n",
    "image = 'CC-Ubuntu18.04'\n",
    "network = 'sharedwan1'"
   ]
  },
  {
   "cell_type": "code",
   "execution_count": null,
   "metadata": {},
   "outputs": [],
   "source": [
    "cpu_worker_leases = []\n",
    "for i in range(num_workers):\n",
    "    name = f\"cpu-worker{i}\"\n",
    "    # Create a lease for 1 node\n",
    "    w_lease = Lease(name=name, node_type=worker_node_type)\n",
    "    w_lease.wait() # Ensure lease has started\n",
    "    cpu_worker_leases.append(w_lease)\n",
    "    print(f\"Worker Node Lease {name} created\")"
   ]
  },
  {
   "cell_type": "code",
   "execution_count": null,
   "metadata": {},
   "outputs": [],
   "source": [
    "cpu_workers = []\n",
    "i = 0\n",
    "for l in cpu_worker_leases:\n",
    "    name = f\"cpu-worker{i}\"\n",
    "    i += 1\n",
    "\n",
    "    l.prefix = hostname_prefix\n",
    "    # Launch 1 server\n",
    "    w = l.create_server(name=name, image=image, net_name=network, key_name=uc_key_pair.key_name)\n",
    "    cpu_workers.append(w)\n",
    "    print(f\"Worker Node {w.name} created\")"
   ]
  },
  {
   "cell_type": "code",
   "execution_count": null,
   "metadata": {},
   "outputs": [],
   "source": [
    "for w in cpu_workers:\n",
    "    status = \"BUILD\"\n",
    "    worker = w\n",
    "    while status != \"ACTIVE\":\n",
    "        worker = get_server(worker.name)\n",
    "        status = worker.status\n",
    "        time.sleep(5)\n",
    "\n",
    "    w.associate_floating_ip()\n",
    "    print(f\"Worker Node {w.name} is ACTIVE IP: {w.ip}\")"
   ]
  },
  {
   "cell_type": "code",
   "execution_count": null,
   "metadata": {},
   "outputs": [],
   "source": [
    "c_worker_script = f\"sudo chmod 666 /etc/hosts;\" \\\n",
    "                  f\"sudo echo '{master_lip} {master_name}' >> /etc/hosts;\" \\\n",
    "                  f\"sudo chmod 644 /etc/hosts;\" \\\n",
    "                  f\"\\nsudo git clone https://github.com/RENCI-NRIG/Mobius-scripts.git /root/Mobius-scripts\" \\\n",
    "                  f\"\\nsudo cp /root/Mobius-scripts/scripts/posiedon/pos_mobius_start.sh /root/mobius_start.sh\" \\\n",
    "                  f\"\\nsudo sh /root/mobius_start.sh WORKFLOW all\" \\\n",
    "                  f\"\\nsudo cp /root/Mobius-scripts/scripts/posiedon/worker.sh /root/worker.sh\" \\\n",
    "                  f\"\\nsudo sh /root/worker.sh\""
   ]
  },
  {
   "cell_type": "code",
   "execution_count": null,
   "metadata": {},
   "outputs": [],
   "source": [
    "print(c_worker_script)"
   ]
  },
  {
   "cell_type": "code",
   "execution_count": null,
   "metadata": {},
   "outputs": [],
   "source": [
    "for w in cpu_workers:\n",
    "    client.connect(w.ip, username='cc', pkey=key)\n",
    "    stdin, stdout, stderr = client.exec_command(c_worker_script)\n",
    "    #print (str(stdout.read(),'utf-8').replace('\\\\n','\\n'))\n",
    "\n",
    "    print(f\"Setup script executed on {w.name}\")"
   ]
  },
  {
   "cell_type": "markdown",
   "metadata": {},
   "source": [
    "# Create GPU Workers"
   ]
  },
  {
   "cell_type": "code",
   "execution_count": null,
   "metadata": {},
   "outputs": [],
   "source": [
    "num_workers = 1\n",
    "worker_node_type = 'gpu_rtx_6000'\n",
    "image = 'CC-Ubuntu18.04'\n",
    "network = 'sharedwan1'"
   ]
  },
  {
   "cell_type": "code",
   "execution_count": null,
   "metadata": {},
   "outputs": [],
   "source": [
    "gpu_worker_leases = []\n",
    "for i in range(num_workers):\n",
    "    name = f\"gpu-worker{i}\"\n",
    "    # Create a lease for 1 node\n",
    "    w_lease = Lease(name=name, node_type=worker_node_type)\n",
    "    w_lease.wait() # Ensure lease has started\n",
    "    gpu_worker_leases.append(w_lease)\n",
    "    print(f\"Worker Node Lease {name} created\")"
   ]
  },
  {
   "cell_type": "code",
   "execution_count": null,
   "metadata": {},
   "outputs": [],
   "source": [
    "gpu_workers = []\n",
    "i = 0\n",
    "for l in gpu_worker_leases:\n",
    "    name = f\"gpu-worker{i}\"\n",
    "    i += 1\n",
    "\n",
    "    l.prefix = hostname_prefix\n",
    "    # Launch 1 server\n",
    "    w = l.create_server(name=name, image=image, net_name=network, key_name=uc_key_pair.key_name)\n",
    "    gpu_workers.append(w)\n",
    "    print(f\"Worker Node {w.name} created\")"
   ]
  },
  {
   "cell_type": "code",
   "execution_count": null,
   "metadata": {},
   "outputs": [],
   "source": [
    "for w in gpu_workers:\n",
    "    status = \"BUILD\"\n",
    "    worker = w\n",
    "    while status != \"ACTIVE\":\n",
    "        worker = get_server(worker.name)\n",
    "        status = worker.status\n",
    "        time.sleep(5)\n",
    "\n",
    "    w.associate_floating_ip()\n",
    "    print(f\"Worker Node {w.name} is ACTIVE IP: {w.ip}\")"
   ]
  },
  {
   "cell_type": "code",
   "execution_count": null,
   "metadata": {},
   "outputs": [],
   "source": [
    "for w in gpu_workers:\n",
    "    client.connect(w.ip, username='cc', pkey=key)\n",
    "    stdin, stdout, stderr = client.exec_command(c_worker_script)\n",
    "    #print (str(stdout.read(),'utf-8').replace('\\\\n','\\n'))\n",
    "\n",
    "    print(f\"Setup script executed on {w.name}\")"
   ]
  },
  {
   "cell_type": "markdown",
   "metadata": {},
   "source": [
    "# Cleanup"
   ]
  },
  {
   "cell_type": "code",
   "execution_count": null,
   "metadata": {},
   "outputs": [],
   "source": [
    "master_lease.delete()"
   ]
  },
  {
   "cell_type": "code",
   "execution_count": null,
   "metadata": {},
   "outputs": [],
   "source": [
    "for l in cpu_worker_leases:\n",
    "    l.delete()"
   ]
  },
  {
   "cell_type": "code",
   "execution_count": null,
   "metadata": {},
   "outputs": [],
   "source": [
    "for l in gpu_worker_leases:\n",
    "    l.delete()"
   ]
  }
 ],
 "metadata": {
  "kernelspec": {
   "display_name": "Python 3 (ipykernel)",
   "language": "python",
   "name": "python3"
  },
  "language_info": {
   "codemirror_mode": {
    "name": "ipython",
    "version": 3
   },
   "file_extension": ".py",
   "mimetype": "text/x-python",
   "name": "python",
   "nbconvert_exporter": "python",
   "pygments_lexer": "ipython3",
   "version": "3.9.6"
  }
 },
 "nbformat": 4,
 "nbformat_minor": 4
}
